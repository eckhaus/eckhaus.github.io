{
 "cells": [
  {
   "cell_type": "markdown",
   "metadata": {},
   "source": [
    "# NOPT048: 2. Praktická domáca úloha\n",
    "### Graf bez orientovaných cyklov (Minimum Feedback Arc Set Problem)\n",
    "#### Róbert Eckhaus\n",
    "\n",
    "Zadanie:\n",
    "\n",
    "Na vstupu máte orientovaný graf s váhovou funkcí na hranách. Vaším úkolem je napsat IP, který\n",
    "najde nejmenší váženou podmnožinu hran takovou, že po jejím odebrání graf nebude obsahovat\n",
    "žádnou orientovanou kružnici. Graf na vstupu neobsahuje smyčky ani cykly délky 2.\n",
    "V této úloze, na rozdíl od předešlé, nemá být výstupem vašeho programu zadání pro glpsol, ale\n",
    "máte si glpsol volat sami. Díky tomu můžete při řešení této úlohy volat glpsol opakovaně, což\n",
    "se vám pravděpodobně bude hodit.\n",
    "\n",
    "## Rozbor problému\n",
    "\n",
    "Zadaný problém je identický so známym problémom nájdenia tzv. Mimumum Feedback Arc (Edge) Set (ďalej len MFES). Ten je podrobne rozobraný v článku\n",
    "\n",
    "[**Ali Baharev, Hermann Schichl, Arnold Neumaier: An exact method for the minimum feedback arc set problem**](http://www.mat.univie.ac.at/~herman/fwf-P27891-N32/minimum_feedback_arc_set.pdf)\n",
    "\n",
    "v ktorom je aj popísaný postup, ktorý implementujeme. Obecne MFES je NP-complete a ťažko aproximovateľný problém. Postupným pridávaním omezujúcich podmienok a využitím heuristických aproximácií ho však vieme v niektorých prípadoch riešiť celkom efektívne.\n",
    "\n",
    "## Pomalé optimálne riešenie\n",
    "\n",
    "Majme na vstupe orientovaný graf $G = (E_G, V_G)$. Označme hľadaný MFES ako $F$ a množinu všetkých (jednoduchých) cyklov v $G$ ako $C = (c_1, c_2, \\dots, c_l)$.\n",
    "\n",
    "Jedno z optimálnych riešení je založné na jednoduchom pozorovaní: pre každý cyklus $c \\in C$ musí existovať aspoň jeda hrana $e_c \\in F$, ktorá na tomto cykle leží. Pre nájdenie MFES nám stačí nájsť hrany, ktoré túto podmienku spĺňajú a majú najnižšiu možnú váhu.\n",
    "\n",
    "Nájdeme si teda všetky cykly v grafe (čo môže byť problematické, dokonca aj pre riedke grafy) a pre každý cyklus pridáme podmienku, že musí obsahovať aspoň jednu hranu z MFES. Potom už len minimalizujeme súčet váh vybraných vrcholov. Toto vieme formulovať ako nasledujúci lineárny program:\n",
    "\n",
    "$$ \\min_y\\sum^m_{j=1}w_jy_j$$\n",
    "$$ \\sum^m_{j=1}{C_{i,j}y_j}\\geq1\\quad \\forall i = 1..l$$\n",
    "$$ y \\in \\{0,1\\} $$\n",
    "\n",
    "kde:\n",
    " - $y_e$ je $1$ ak hrana $e$ patrí MFES, inak 0\n",
    " - $w_e$ je váha hrany $e$\n",
    " - $C_{e,c}$ je matica cyklov: 1 ak hrana $e$ patrí do cyklu $c$, inak 0\n",
    " \n",
    "## Hlúpa heuristika\n",
    "\n",
    "Prehľadáme graf do hĺbky a nájdeme v ňom spätné hrany, tie tvoria určite nejaký feedback edge set (FES) - aj keď nie nutne najmenší. Týmto spôsobom vieme jednoducho a rýchlo získať prípustné riešenie problému. To sa nám neskôr zíde.\n",
    "Bolo by možné použiť nejakú sofistikovanejšiu \"heuristiku\" (viacero je ich popísaných v spomínanom článku), to by viedlo k o niečo rýchlejšej konvergencii iteratívneho algoritmu k optimálnemu riešeniu.\n",
    "\n",
    "## Iteratívny postup = Pomalé optimálne riešenie + Hlúpa heuristika\n",
    "\n",
    "Hlavnou myšlienkou programu je začať s relatívne zlým prípustným riešením, ktoré vieme vypočítať rýchlo našou heuristikou. Na základe tohto riešenia budeme pridávať nové podmienky do lineárneho programu.\n",
    "\n",
    "Budeme používať popísané pomalé optimálne riešenie MFES. Jeho hlaným problémom bol neúnosný počet cyklov. Začneme teda s prázdnou maticou cyklov. Vypočítame si heuristikou $F^{(0)}$ - prvý prípustný FES. Z prípustného riešenia zistíme, ktoré cykly by mohli byť relevantné pre ďalšie hľadanie. Budú to tie, ktoré obsahujú hrany z $F^{(0)}$. Nájdeme teda v $G$ pre každú hranu z $F^{(0)}$ najkratší (najľahší) orientovaný cyklus, ktorý túto hranu obsahuje a ten pridáme do matice cyklov.\n",
    "\n",
    "Takto rozšírime maticu cyklov (z prázdnej matice) podľa grafu $G$ a prípustného riešenia $F_0$. Teraz už máme maticu cyklov, ktorú môžeme použiť v exaktnom lineárnom programe, ktorý počíta MFES. Takto vypočítaná množina - označme $S$ - však ešte nemusí byť optimálny MFES grafu $G$, keďže neobsahuje informácie o všetkých cykloch - poslúži len ako základ pre výpočet lepšieho feedback edge set-u. Ak je však graf $G$ po odobraní hrán z $S$ acyklický, máme optimálne riešenie (keďže sme našli množinu, po ktorej odobraní je graf acyklický a pridaním ďalších podmienok by sa jej váha mohla len zväčšiť)\n",
    "\n",
    "Každá iterácia algoritmu prebieha nasledovne:\n",
    "\n",
    "- na začiatku $i$-tej iterácie máme k dispozícii maticu cyklov $C^{(i)}$\n",
    "- vypočítame lineárnym programom nové prípustné riešenie problému na základe aktuálnej matice cyklov  $C^{(i)}$. Výlednú množinu hrán označme $S$\n",
    "- ako $G^{(i)}$ označíme graf, ktorý vznikne z $G$ po odobraní všetkých hrán z $S$\n",
    "- ak je $G^{(i)}$ acyklický skončili sme, $S$ je riešenie\n",
    "- ak nie, vypočítame ďalšie prípustné riešenie $F^{(i)}$ v grafe $G^{(i)}$ pomocou heuristiky\n",
    "- rozšírime maticu cyklov tak, aby obsahovala pre každú hranu z $F^{(i)}$ najkratší cyklus v $G^{(i)}$, ktorý ju obsahuje (ak taký existuje)"
   ]
  },
  {
   "cell_type": "markdown",
   "metadata": {},
   "source": [
    "## Zdrojový kód\n",
    "\n",
    "Program v Python-e je stiahnuteľný z [eckhaus.github.io/mfes/mfes.py](http://eckhaus.github.io/mfes/mfes.py). Ako jediný argument očakáva názov súboru s dátami. Výstup odpovedá funkcii *solve* uvedenej nižšie (bez atribútov).\n",
    "Tento jupyter notebook je dostupný na [eckhaus.github.io/mfes/mfes.ipynb](http://eckhaus.github.io/mfes/mfes.ipynb)"
   ]
  },
  {
   "cell_type": "markdown",
   "metadata": {},
   "source": [
    "## Implementácia\n",
    "\n",
    "Používame knižnice NetworkX (na grafové operácie), NumPy, Matplotlib (zobrazovanie grafov pre lepší debugging) a re (na načítanie vstupu)"
   ]
  },
  {
   "cell_type": "code",
   "execution_count": 1,
   "metadata": {
    "collapsed": false
   },
   "outputs": [],
   "source": [
    "import re\n",
    "from matplotlib import pyplot as plt\n",
    "import networkx as nx\n",
    "import numpy as np\n",
    "import subprocess\n",
    "%matplotlib inline"
   ]
  },
  {
   "cell_type": "markdown",
   "metadata": {},
   "source": [
    "### Inicializácia\n",
    "Načítame vstup zo súboru, naparsujeme regexpom a vytvoríme orientovaný graf G."
   ]
  },
  {
   "cell_type": "code",
   "execution_count": 2,
   "metadata": {
    "collapsed": false
   },
   "outputs": [],
   "source": [
    "def getGraph (fileName):\n",
    "    f = open(fileName, 'r')\n",
    "    f.readline()\n",
    "    G=nx.DiGraph()\n",
    "    id = 0\n",
    "    for line in f:\n",
    "        id += 1\n",
    "        m = re.match(r\"( *[0-9]+) --> ( *[0-9]+) \\( *([0-9]+)\\)\", line)\n",
    "        G.add_edge(m.group(1), m.group(2), {'weight': m.group(3), 'id' : id})\n",
    "\n",
    "    f.close()\n",
    "    return G"
   ]
  },
  {
   "cell_type": "markdown",
   "metadata": {},
   "source": [
    "**computeHeuristicTree (G)** Graf prehľadáme do hĺbky, vypočítame si stromové hrany a tie označíme ako výsledok (takže doplnok výsledku v grafe $G$ je hľadaný FES)"
   ]
  },
  {
   "cell_type": "code",
   "execution_count": 3,
   "metadata": {
    "collapsed": false
   },
   "outputs": [],
   "source": [
    "def computeHeuristicTree(G):\n",
    "    T = nx.DiGraph()\n",
    "    for e in nx.dfs_edges(G):\n",
    "        T.add_edge(e[0], e[1], weight = G[e[0]][e[1]]['weight'])\n",
    "    return T"
   ]
  },
  {
   "cell_type": "markdown",
   "metadata": {},
   "source": [
    "### Matica cyklov\n",
    "** def computeCycleMatrix(G, F, C, cycleString, original) ** \n",
    "pridá nové cykly do matice cyklov $C$ na základe doplnku prípustného riešenia MFES *F* v grafe *G*, original je pôvodný graf na vstupe. \n",
    "\n",
    "postup výpočtu: pre každú hranu $(e_0, e_1)$ v prípustnom riešení (G\\F) si nájdeme najkratší cyklus v G, ktorý ju obsahuje. To urobíme tak, že si vypočítame najkratšiu cestu z $e_1$ do $e_0$ a pridáme hranu $(e_0, e_1)$. Tento cyklus pridáme do matice cyklov ak v nej ešte nie je. Unikátnosť zaručíme tým, že pre každý cyklus si pamätáme lexikograficky najmenšie usporiadanie.\n",
    "\n",
    "Vracia maticu cyklov a zoznam cyklov spracovaný v formáte vhodnom pre mathprog."
   ]
  },
  {
   "cell_type": "code",
   "execution_count": 4,
   "metadata": {
    "collapsed": false
   },
   "outputs": [],
   "source": [
    "#  graph G, complement of feedback set F, cycle matrix C so far, cycle string(to IP), task graph\n",
    "def computeCycleMatrix(G, F, C, cycleString, original):\n",
    "    # did we append any string to cycle matrix?\n",
    "    appending = False\n",
    "    # for all edges in feasable solution\n",
    "    for e in set(G.edges()) - set(F.edges()):\n",
    "        try:\n",
    "            # compute shortest cycle if it exists\n",
    "            row = nx.shortest_path(G, e[1], e[0])            \n",
    "        except:\n",
    "            continue\n",
    "        # \"normalize\" the cycle - use the least lex. order permutation\n",
    "        perm_anchor = np.argmin(row)\n",
    "        row_normal = row[perm_anchor:] + row[:perm_anchor]\n",
    "        # if this cycles is not in the matrix\n",
    "        if (row_normal) not in C:\n",
    "            # delete semicolon when appending to cycle string\n",
    "            if (appending == False) and (cycleString!=\"\"):\n",
    "                cycleString = cycleString[:-1] + \",\\n\"\n",
    "            appending = True\n",
    "            # add new constraints to exact LP\n",
    "            for vertex in range(len(row_normal)-1):\n",
    "                cycleString += str(original[row_normal[vertex]][row_normal[vertex+1]]['id']) \n",
    "                cycleString += \" \" + str(len(C) + 1) + \" 1,\\n\"                \n",
    "            cycleString += str(original[row_normal[-1]][row_normal[0]]['id']) + \" \" + str(len(C) +1) +\" 1,\\n\"\n",
    "            C.append(row_normal)\n",
    "\n",
    "    if appending:\n",
    "        cycleString = cycleString[:-2] + \";\"\n",
    "    return (C, cycleString)"
   ]
  },
  {
   "cell_type": "markdown",
   "metadata": {},
   "source": [
    "**computeWeightString(G)** vráti zoznam hrán pre lineárny program v mathprogu"
   ]
  },
  {
   "cell_type": "code",
   "execution_count": 5,
   "metadata": {
    "collapsed": true
   },
   "outputs": [],
   "source": [
    "def computeWeightString(G):\n",
    "    weightString = \"\"\n",
    "    for e in G.edges():\n",
    "        weightString += str(G[e[0]][e[1]]['id']) + \" \" + str(G[e[0]][e[1]]['weight']) + \",\\n\"\n",
    "    return weightString[:-2] + \";\""
   ]
  },
  {
   "cell_type": "markdown",
   "metadata": {},
   "source": [
    "### Lineárny program\n",
    "\n",
    "**def WriteLP (fileName, m, l, cycles, weights)** vygeneruje lineárny program popísaný v sekcii \"pomalé optimálne riešenie\" za vstup berie počet hrán grafu, počet cyklov, pracovanú maticu cyklov (z *computeCycleMatrix*) a zoznam váh hrán z *computeWeightString* a zapíše ho do súboru *fileName*\n"
   ]
  },
  {
   "cell_type": "code",
   "execution_count": 6,
   "metadata": {
    "collapsed": false
   },
   "outputs": [],
   "source": [
    "def WriteLP (fileName, m, l, cycles, weights):\n",
    "    lp = '''/* edges */\n",
    "    param m, integer, >= 0;\n",
    "    set E, default 1..m;\n",
    "\n",
    "    /* loops */\n",
    "    param l, integer, >=0;\n",
    "    set L, default 1..l;\n",
    "\n",
    "    /* edge weights */\n",
    "    param w{e in E}, integer, default 0;\n",
    "\n",
    "    /* cycle matrix */\n",
    "    param a{(i,j) in (E cross L)}, binary, default 0;\n",
    "\n",
    "    /* is this edge in FES */\n",
    "    var y{i in E}, binary;\n",
    "\n",
    "    minimize obj: sum{e in E} w[e]*y[e];\n",
    "    s.t. c{i in L}: sum{e in E}(a[e,i]*y[e]) >= 1;\n",
    "\n",
    "    solve;\n",
    "\n",
    "\n",
    "    printf \"OUTPUT\\\\n\";\n",
    "    printf{e in E: y[e]==1}: \"%13s\\\\n\", e;\n",
    "    printf \"OUTPUT\\\\n\";\n",
    "\n",
    "    data;\n",
    "\n",
    "    param m := ''' + str(m) + ''';\n",
    "    param l := ''' + str(l) + ''';\n",
    "\n",
    "    /* edge e in loop l is 1 */\n",
    "    param : a := \n",
    "    ''' + cycles + '''\n",
    "\n",
    "    /* edge e has weight w*/\n",
    "    param : w :=\n",
    "    ''' + weights + ''' \n",
    "    end;\n",
    "\n",
    "    '''\n",
    "    f = open(fileName, 'w')\n",
    "    f.write(lp)\n",
    "    f.close()"
   ]
  },
  {
   "cell_type": "markdown",
   "metadata": {},
   "source": [
    "**solveOptimal(G)** vráti riešenie optimálneho lineárneho programu (ako orientovaný graf)"
   ]
  },
  {
   "cell_type": "code",
   "execution_count": 7,
   "metadata": {
    "collapsed": true
   },
   "outputs": [],
   "source": [
    "def solveOptimal(G, draw=False):\n",
    "    # run glpsol from command line\n",
    "    outp = subprocess.check_output([\"glpsol\", \"--math\", \"out_lin\"]).split('\\n')\n",
    "    \n",
    "    # extract text between OUTPUT \"tags\"\n",
    "    isOut = False\n",
    "    out_edges = []\n",
    "    for line in outp:\n",
    "        if line == \"OUTPUT\": isOut = not isOut\n",
    "        if isOut:\n",
    "            out_edges.append(line)     \n",
    "    parsed_edges = set(map(int, out_edges[1:]))\n",
    "    \n",
    "    # construct the output\n",
    "    newFeedback = nx.DiGraph()\n",
    "    for e in G.edges():\n",
    "        if G[e[0]][e[1]]['id'] in parsed_edges:\n",
    "            newFeedback.add_edge(e[0], e[1], {'weight': G[e[0]][e[1]]['weight'], 'id' : G[e[0]][e[1]]['id']})\n",
    "    \n",
    "    # draw the graph\n",
    "    if draw:\n",
    "        edge_color_list = ['black' if e in set(newFeedback.edges()) else 'red' for e in G.edges()]\n",
    "        nx.draw(G, pos=nx.spring_layout(G), node_size=300, edge_color=edge_color_list, with_labels = True)\n",
    "        plt.show()\n",
    "\n",
    "    return newFeedback"
   ]
  },
  {
   "cell_type": "markdown",
   "metadata": {},
   "source": [
    "**difference (X, Y)** odoberie hrany grafu Y z grafu X"
   ]
  },
  {
   "cell_type": "code",
   "execution_count": 8,
   "metadata": {
    "collapsed": true
   },
   "outputs": [],
   "source": [
    "def difference (X, Y): #X\\Y\n",
    "    rslt = nx.DiGraph()\n",
    "    for e in X.edges_iter():\n",
    "        if not Y.has_edge(e[0],e[1]):\n",
    "            rslt.add_edge(e[0],e[1],{'weight': X[e[0]][e[1]]['weight'], 'id' : X[e[0]][e[1]]['id']})\n",
    "    return rslt\n",
    "\n",
    "# get weight of a graph\n",
    "def getWeight(X):\n",
    "    totW = 0\n",
    "    for e in X.edges_iter(): \n",
    "        totW += int(X[e[0]][e[1]]['weight'])\n",
    "    return totW"
   ]
  },
  {
   "cell_type": "markdown",
   "metadata": {},
   "source": [
    "## Samotný program"
   ]
  },
  {
   "cell_type": "code",
   "execution_count": 9,
   "metadata": {
    "collapsed": false
   },
   "outputs": [],
   "source": [
    "def solve(data, edges = True, draw = False, verbose = False):\n",
    "\n",
    "    # initialize\n",
    "    G = getGraph(data)\n",
    "    G_i = G.copy()\n",
    "    C, cycleString = [], \"\"\n",
    "\n",
    "    # compute the first feasible solution\n",
    "    F_i  = computeHeuristicTree(G)\n",
    "    C, cycleString = computeCycleMatrix(G_i, F_i, C, cycleString, G)\n",
    "    weightString = computeWeightString(G)\n",
    "    WriteLP('out_lin', len(G.edges()), len(C), cycleString, weightString)\n",
    "\n",
    "    iter = 1\n",
    "    while (True):\n",
    "        #solve relaxed problem .. output S: feedback set\n",
    "        S = solveOptimal(G, draw)\n",
    "        G_i = difference(G, S)     \n",
    "        if verbose:\n",
    "            print \"Iterácia: \", iter    \n",
    "            print \"Váha: \", getWeight(S)\n",
    "            print \"Veľkosť matice cyklov: \",len(C)\n",
    "\n",
    "        #test if we are done\n",
    "        if nx.is_directed_acyclic_graph(G_i):\n",
    "            if verbose:\n",
    "                print \"OPTIMUM !!!\\n\"\n",
    "            \n",
    "            print \"#OUTPUT: \" + str(getWeight(S))\n",
    "            if edges:\n",
    "                for e in S.edges_iter():\n",
    "                    print str(int(e[0])) + \" --> \" + str(int(e[1]))\n",
    "                print \"#OUTPUT END\"\n",
    "            break\n",
    "\n",
    "        #Compute new feedback set of G_i using heuristic   \n",
    "        F_i = computeHeuristicTree(G_i)\n",
    "\n",
    "        # extend cycle matrix\n",
    "        C, cycleString = computeCycleMatrix(G_i, F_i, C, cycleString,G) \n",
    "\n",
    "        # write new LP\n",
    "        WriteLP('out_lin', len(G.edges()), len(C), cycleString, weightString)\n",
    "\n",
    "\n",
    "        iter += 1"
   ]
  },
  {
   "cell_type": "markdown",
   "metadata": {},
   "source": [
    "### Pár príkladov"
   ]
  },
  {
   "cell_type": "code",
   "execution_count": 10,
   "metadata": {
    "collapsed": false
   },
   "outputs": [
    {
     "data": {
      "image/png": "[encoded data removed]",
      "text/plain": [
       "<matplotlib.figure.Figure at 0x7f3943dc4a10>"
      ]
     },
     "metadata": {},
     "output_type": "display_data"
    },
    {
     "name": "stdout",
     "output_type": "stream",
     "text": [
      "Iterácia:  1\n",
      "Váha:  2\n",
      "Veľkosť matice cyklov:  4\n",
      "OPTIMUM !!!\n",
      "\n",
      "#OUTPUT: 2\n",
      "3 --> 1\n",
      "0 --> 2\n",
      "#OUTPUT END\n"
     ]
    }
   ],
   "source": [
    "solve('vstupy/vstup-s0.txt', draw = True, verbose=True)"
   ]
  },
  {
   "cell_type": "code",
   "execution_count": 11,
   "metadata": {
    "collapsed": false
   },
   "outputs": [
    {
     "data": {
      "image/png": "[encoded data removed]",
      "text/plain": [
       "<matplotlib.figure.Figure at 0x7f397497b250>"
      ]
     },
     "metadata": {},
     "output_type": "display_data"
    },
    {
     "name": "stdout",
     "output_type": "stream",
     "text": [
      "#OUTPUT: 2\n",
      "2 --> 3\n",
      "#OUTPUT END\n"
     ]
    }
   ],
   "source": [
    "solve('vzorovy_vstup', draw = True)"
   ]
  },
  {
   "cell_type": "code",
   "execution_count": 12,
   "metadata": {
    "collapsed": false
   },
   "outputs": [
    {
     "name": "stdout",
     "output_type": "stream",
     "text": [
      "#OUTPUT: 2\n",
      "#OUTPUT: 2\n",
      "#OUTPUT: 2\n",
      "#OUTPUT: 2\n",
      "#OUTPUT: 2\n",
      "#OUTPUT: 2\n",
      "#OUTPUT: 2\n",
      "#OUTPUT: 2\n",
      "#OUTPUT: 2\n",
      "#OUTPUT: 753\n",
      "#OUTPUT: 773\n",
      "#OUTPUT: 690\n",
      "#OUTPUT: 708\n",
      "#OUTPUT: 798\n",
      "#OUTPUT: 728\n",
      "#OUTPUT: 684\n",
      "#OUTPUT: 734\n"
     ]
    }
   ],
   "source": [
    "for x in range (9): solve ('vstupy/vstup-s'+str(x)+'.txt', edges = False)\n",
    "for x in range (1,9): solve ('vstupy/vstup-00'+str(x)+'.txt', edges = False)"
   ]
  }
 ],
 "metadata": {
  "kernelspec": {
   "display_name": "Python 2",
   "language": "python",
   "name": "python2"
  },
  "language_info": {
   "codemirror_mode": {
    "name": "ipython",
    "version": 2
   },
   "file_extension": ".py",
   "mimetype": "text/x-python",
   "name": "python",
   "nbconvert_exporter": "python",
   "pygments_lexer": "ipython2",
   "version": "2.7.11"
  }
 },
 "nbformat": 4,
 "nbformat_minor": 0
}
